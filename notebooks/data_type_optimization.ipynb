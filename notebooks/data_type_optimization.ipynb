{
 "cells": [
  {
   "cell_type": "code",
   "execution_count": null,
   "id": "fe4d2fe7",
   "metadata": {
    "vscode": {
     "languageId": "plaintext"
    }
   },
   "outputs": [],
   "source": [
    "# Data Type Optimization in autoEDA\n",
    "\n",
    "This notebook demonstrates how to optimize data types in a pandas DataFrame to reduce memory usage and improve performance."
   ]
  },
  {
   "cell_type": "code",
   "execution_count": 12,
   "id": "3a9a7f87-1deb-4463-b10b-65229c2645c9",
   "metadata": {},
   "outputs": [],
   "source": [
    "\n",
    "import pandas as pd\n",
    "import numpy as np"
   ]
  },
  {
   "cell_type": "code",
   "execution_count": 13,
   "id": "565ce6bc-749a-48eb-bda8-0f74df63d86f",
   "metadata": {},
   "outputs": [],
   "source": [
    "# Sample DataFrame for demonstration\n",
    "df = pd.DataFrame({\n",
    "    'id': range(1, 1001),\n",
    "    'category': ['A', 'B', 'C', 'D'] * 250,\n",
    "    'value': np.random.randn(1000),\n",
    "    'big_int': np.random.randint(1e6, 1e7, 1000),\n",
    "    'date_col': pd.date_range('2023-01-01', periods=1000, freq='D').astype(str)\n",
    "})"
   ]
  },
  {
   "cell_type": "code",
   "execution_count": 14,
   "id": "5b349f76-68db-4b1f-ab07-4f747b9c97ed",
   "metadata": {},
   "outputs": [
    {
     "name": "stdout",
     "output_type": "stream",
     "text": [
      "Memory usage before optimization: 129132 bytes\n"
     ]
    }
   ],
   "source": [
    "print(\"Memory usage before optimization:\", df.memory_usage(deep=True).sum(), \"bytes\")"
   ]
  },
  {
   "cell_type": "code",
   "execution_count": 16,
   "id": "f57ff083-8272-4518-8e56-bc3c3472531e",
   "metadata": {},
   "outputs": [],
   "source": [
    "def optimize_dtypes(df):\n",
    "    # Convert object columns with low cardinality to category\n",
    "    for col in df.select_dtypes(include='object'):\n",
    "        if df[col].nunique() < 50:\n",
    "            df[col] = df[col].astype('category')\n",
    "    # Downcast numeric columns\n",
    "    for col in df.select_dtypes(include=['float']):\n",
    "        df[col] = pd.to_numeric(df[col], downcast='float')\n",
    "    for col in df.select_dtypes(include=['int']):\n",
    "        df[col] = pd.to_numeric(df[col], downcast='integer')\n",
    "    # Convert date-like columns\n",
    "    for col in df.columns:\n",
    "        if any(x in col.lower() for x in ['date', 'time', 'timestamp']):\n",
    "            try:\n",
    "                df[col] = pd.to_datetime(df[col])\n",
    "            except Exception:\n",
    "                pass\n",
    "    return df"
   ]
  },
  {
   "cell_type": "code",
   "execution_count": 17,
   "id": "b6aec487-a126-4355-b656-7dc5b83a7e4b",
   "metadata": {},
   "outputs": [],
   "source": [
    "df_optimized = optimize_dtypes(df.copy())"
   ]
  },
  {
   "cell_type": "code",
   "execution_count": 18,
   "id": "ccae032a-eeba-4ed7-942f-b00edf06ef21",
   "metadata": {},
   "outputs": [
    {
     "name": "stdout",
     "output_type": "stream",
     "text": [
      "Memory usage after optimization: 19504 bytes\n"
     ]
    }
   ],
   "source": [
    "print(\"Memory usage after optimization:\", df_optimized.memory_usage(deep=True).sum(), \"bytes\")"
   ]
  },
  {
   "cell_type": "code",
   "execution_count": null,
   "id": "e4c23004-184e-48fb-9436-88a6e14d2115",
   "metadata": {},
   "outputs": [],
   "source": [
    "## Observations\n",
    "\n",
    "- Memory usage before and after optimization is shown above.\n",
    "- Converting columns to more efficient types can save significant memory.\n",
    "- This approach can be applied to any dataset for better performance."
   ]
  }
 ],
 "metadata": {
  "kernelspec": {
   "display_name": "Python 3 (ipykernel)",
   "language": "python",
   "name": "python3"
  },
  "language_info": {
   "codemirror_mode": {
    "name": "ipython",
    "version": 3
   },
   "file_extension": ".py",
   "mimetype": "text/x-python",
   "name": "python",
   "nbconvert_exporter": "python",
   "pygments_lexer": "ipython3",
   "version": "3.12.7"
  }
 },
 "nbformat": 4,
 "nbformat_minor": 5
}
